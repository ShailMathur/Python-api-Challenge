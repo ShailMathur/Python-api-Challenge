{
 "cells": [
  {
   "cell_type": "code",
   "execution_count": 161,
   "metadata": {},
   "outputs": [],
   "source": [
    "# Dependencies and Setup\n",
    "import matplotlib.pyplot as plt\n",
    "import pandas as pd\n",
    "import numpy as np\n",
    "import requests\n",
    "import datetime\n",
    "import json\n",
    "from scipy import stats\n",
    "from scipy.stats import linregress\n",
    "\n",
    "# Import API key\n",
    "from config import api_key\n",
    "\n",
    "# Incorporated citipy to determine city based on latitude and longitude\n",
    "from citipy import citipy\n",
    "\n",
    "# Output File (CSV)\n",
    "output_data_file = \"./output_data/cities.csv\"\n",
    "\n",
    "# Range of latitudes and longitudes\n",
    "lat_range = (-90, 90)\n",
    "lng_range = (-180, 180)"
   ]
  },
  {
   "cell_type": "markdown",
   "metadata": {},
   "source": [
    "## Generate Cities List"
   ]
  },
  {
   "cell_type": "code",
   "execution_count": 162,
   "metadata": {},
   "outputs": [
    {
     "name": "stdout",
     "output_type": "stream",
     "text": [
      "625\n"
     ]
    }
   ],
   "source": [
    "# List for holding lat_lngs and cities\n",
    "lat_lngs = []\n",
    "cities = []\n",
    "\n",
    "# Create a set of random lat and lng combinations\n",
    "lats = np.random.uniform(low=-90.000, high=90.000, size=1500)\n",
    "lngs = np.random.uniform(low=-180.000, high=180.000, size=1500)\n",
    "lat_lngs = zip(lats, lngs)\n",
    "\n",
    "# Identify nearest city for each lat, lng combination\n",
    "for lat_lng in lat_lngs:\n",
    "    city = citipy.nearest_city(lat_lng[0], lat_lng[1]).city_name\n",
    "    \n",
    "    # If the city is unique, then add it to a our cities list\n",
    "    if city not in cities:\n",
    "        cities.append(city)\n",
    "\n",
    "# Print the city count to confirm sufficient count\n",
    "lat_lngs_list = list(lat_lngs)\n",
    "#len(cities)\n",
    "print(len(cities))"
   ]
  },
  {
   "cell_type": "markdown",
   "metadata": {},
   "source": [
    "# Perform API Calls\n",
    "\n",
    "Perform a weather check on each city using a series of successive API calls.\n",
    "\n",
    "Include a print log of each city as it's being processed (with the city number and city name)."
   ]
  },
  {
   "cell_type": "code",
   "execution_count": 163,
   "metadata": {},
   "outputs": [
    {
     "data": {
      "text/plain": [
       "'http://api.openweathermap.org/data/2.5/forecast?id=524901&APPID=d8ff74f3fd8258d772d30570281bacc1'"
      ]
     },
     "execution_count": 163,
     "metadata": {},
     "output_type": "execute_result"
    }
   ],
   "source": [
    "url = \"http://api.openweathermap.org/data/2.5/forecast?id=524901&APPID=\"\n",
    "target_url = url + api_key\n",
    "target_url"
   ]
  },
  {
   "cell_type": "code",
   "execution_count": 164,
   "metadata": {},
   "outputs": [],
   "source": [
    "weather_response = requests.get(target_url)\n",
    "weather_json = weather_response.json()\n",
    "#print(json.dumps(weather_json, indent=4, sort_keys=True))"
   ]
  },
  {
   "cell_type": "code",
   "execution_count": 165,
   "metadata": {},
   "outputs": [
    {
     "name": "stdout",
     "output_type": "stream",
     "text": [
      "Moscow\n"
     ]
    }
   ],
   "source": [
    "#print(weather_json['city']['name'])\n",
    "print(weather_json['city']['name'])"
   ]
  },
  {
   "cell_type": "code",
   "execution_count": 166,
   "metadata": {},
   "outputs": [
    {
     "name": "stdout",
     "output_type": "stream",
     "text": [
      "Processing record 1 of Set 1 | tuktoyaktuk\n",
      "Processing record 2 of Set 1 | tarbagatay\n",
      "Record not found\n",
      "Processing record 3 of Set 1 | koygorodok\n",
      "Processing record 4 of Set 1 | port-gentil\n",
      "Processing record 5 of Set 1 | rikitea\n",
      "Processing record 6 of Set 1 | biankouma\n",
      "Processing record 7 of Set 1 | morondava\n",
      "Processing record 8 of Set 1 | bluff\n",
      "Processing record 9 of Set 1 | nouakchott\n",
      "Processing record 10 of Set 1 | jamestown\n",
      "Processing record 11 of Set 1 | iqaluit\n",
      "Processing record 12 of Set 1 | rocha\n",
      "Processing record 13 of Set 1 | mahebourg\n",
      "Processing record 14 of Set 1 | cherskiy\n",
      "Processing record 15 of Set 1 | sobolevo\n",
      "Processing record 16 of Set 1 | norman wells\n",
      "Processing record 17 of Set 1 | mataura\n",
      "Processing record 18 of Set 1 | ushuaia\n",
      "Processing record 19 of Set 1 | itaituba\n",
      "Processing record 20 of Set 1 | port alfred\n",
      "Processing record 21 of Set 1 | northam\n",
      "Processing record 22 of Set 1 | albany\n",
      "Processing record 23 of Set 1 | dargaville\n",
      "Processing record 24 of Set 1 | bredasdorp\n",
      "Processing record 25 of Set 1 | inuvik\n",
      "Record not found\n",
      "Processing record 26 of Set 1 | takab\n",
      "Record not found\n",
      "Processing record 27 of Set 1 | lasa\n",
      "Processing record 28 of Set 1 | pisco\n",
      "Processing record 29 of Set 1 | provideniya\n",
      "Processing record 30 of Set 1 | vienna\n",
      "Processing record 31 of Set 1 | kavieng\n",
      "Processing record 32 of Set 1 | hilo\n",
      "Processing record 33 of Set 1 | antofagasta\n",
      "Processing record 34 of Set 1 | avarua\n",
      "Processing record 35 of Set 1 | ahipara\n",
      "Processing record 36 of Set 1 | sabang\n",
      "Processing record 37 of Set 1 | filadelfia\n",
      "Processing record 38 of Set 1 | victoria\n",
      "Processing record 39 of Set 1 | liuli\n",
      "Processing record 40 of Set 1 | busselton\n",
      "Record not found\n",
      "Processing record 41 of Set 1 | punta arenas\n",
      "Processing record 42 of Set 1 | hithadhoo\n",
      "Processing record 43 of Set 1 | minervino murge\n",
      "Processing record 44 of Set 1 | cockburn town\n",
      "Processing record 45 of Set 1 | butaritari\n",
      "Processing record 46 of Set 1 | castro\n",
      "Processing record 47 of Set 1 | olinda\n",
      "Processing record 48 of Set 1 | cape town\n",
      "Processing record 49 of Set 1 | hayden\n",
      "Processing record 50 of Set 1 | rundu\n",
      "Processing record 51 of Set 1 | yenagoa\n",
      "Processing record 52 of Set 1 | carlisle\n",
      "Processing record 53 of Set 1 | roma\n",
      "Processing record 54 of Set 1 | cayenne\n",
      "Processing record 55 of Set 1 | yellowknife\n",
      "Processing record 56 of Set 1 | arraial do cabo\n",
      "Processing record 57 of Set 1 | ouro preto do oeste\n",
      "Processing record 58 of Set 1 | atbasar\n",
      "Processing record 59 of Set 1 | okha\n",
      "Processing record 60 of Set 1 | nouadhibou\n",
      "Processing record 61 of Set 1 | hualmay\n",
      "Processing record 62 of Set 1 | jeremoabo\n",
      "Processing record 63 of Set 1 | charters towers\n",
      "Processing record 64 of Set 1 | yulara\n",
      "Processing record 65 of Set 1 | vaini\n",
      "Processing record 66 of Set 1 | hermanus\n",
      "Processing record 67 of Set 1 | zwedru\n",
      "Processing record 68 of Set 1 | shelburne\n",
      "Processing record 69 of Set 1 | georgetown\n",
      "Processing record 70 of Set 1 | new norfolk\n",
      "Processing record 71 of Set 1 | puerto ayora\n",
      "Processing record 72 of Set 1 | atuona\n",
      "Processing record 73 of Set 1 | verkhnevilyuysk\n",
      "Processing record 74 of Set 1 | bathsheba\n",
      "Processing record 75 of Set 1 | shingu\n",
      "Processing record 76 of Set 1 | sitka\n",
      "Processing record 77 of Set 1 | udachnyy\n",
      "Processing record 78 of Set 1 | kovdor\n",
      "Processing record 79 of Set 1 | vanavara\n",
      "Processing record 80 of Set 1 | constitucion\n",
      "Processing record 81 of Set 1 | comodoro rivadavia\n",
      "Processing record 82 of Set 1 | aguimes\n",
      "Processing record 83 of Set 1 | taoudenni\n",
      "Record not found\n",
      "Record not found\n",
      "Processing record 84 of Set 1 | port elizabeth\n",
      "Processing record 85 of Set 1 | kirakira\n",
      "Processing record 86 of Set 1 | puerto el triunfo\n",
      "Processing record 87 of Set 1 | namatanai\n",
      "Processing record 88 of Set 1 | mata\n",
      "Processing record 89 of Set 1 | baracoa\n",
      "Processing record 90 of Set 1 | oriximina\n",
      "Processing record 91 of Set 1 | launceston\n",
      "Processing record 92 of Set 1 | thompson\n",
      "Record not found\n",
      "Processing record 93 of Set 1 | alekseyevka\n",
      "Processing record 94 of Set 1 | mar del plata\n",
      "Processing record 95 of Set 1 | payo\n",
      "Processing record 96 of Set 1 | saint-joseph\n",
      "Processing record 97 of Set 1 | leningradskiy\n",
      "Processing record 98 of Set 1 | bethel\n",
      "Processing record 99 of Set 1 | khatanga\n",
      "Processing record 100 of Set 1 | quatre cocos\n",
      "Processing record 101 of Set 1 | sao filipe\n",
      "Processing record 102 of Set 1 | preston\n",
      "Processing record 103 of Set 1 | tiksi\n",
      "Processing record 104 of Set 1 | kumeny\n",
      "Processing record 105 of Set 1 | tiznit\n",
      "Processing record 106 of Set 1 | rosita\n",
      "Processing record 107 of Set 1 | kapaa\n",
      "Processing record 108 of Set 1 | soyo\n",
      "Record not found\n",
      "Processing record 109 of Set 1 | tasiilaq\n",
      "Processing record 110 of Set 1 | upernavik\n",
      "Processing record 111 of Set 1 | cidreira\n",
      "Processing record 112 of Set 1 | port lincoln\n",
      "Processing record 113 of Set 1 | daru\n",
      "Processing record 114 of Set 1 | vossevangen\n",
      "Processing record 115 of Set 1 | shestakovo\n",
      "Processing record 116 of Set 1 | hofn\n",
      "Processing record 117 of Set 1 | boa vista\n",
      "Processing record 118 of Set 1 | longyearbyen\n",
      "Processing record 119 of Set 1 | cravo norte\n",
      "Processing record 120 of Set 1 | talnakh\n",
      "Processing record 121 of Set 1 | saint-philippe\n",
      "Processing record 122 of Set 1 | torbay\n",
      "Processing record 123 of Set 1 | faya\n",
      "Processing record 124 of Set 1 | balsas\n",
      "Processing record 125 of Set 1 | port keats\n",
      "Processing record 126 of Set 1 | berlevag\n",
      "Record not found\n",
      "Processing record 127 of Set 1 | troitskoye\n",
      "Processing record 128 of Set 1 | ginir\n",
      "Processing record 129 of Set 1 | chaohu\n",
      "Processing record 130 of Set 1 | kondopoga\n",
      "Record not found\n",
      "Processing record 131 of Set 1 | puerto escondido\n",
      "Processing record 132 of Set 1 | arroyo grande\n",
      "Processing record 133 of Set 1 | kutum\n",
      "Processing record 134 of Set 1 | leshukonskoye\n",
      "Processing record 135 of Set 1 | dikson\n",
      "Processing record 136 of Set 1 | marzuq\n",
      "Processing record 137 of Set 1 | viamao\n",
      "Processing record 138 of Set 1 | ipixuna\n",
      "Processing record 139 of Set 1 | viedma\n",
      "Processing record 140 of Set 1 | muli\n",
      "Processing record 141 of Set 1 | muros\n",
      "Processing record 142 of Set 1 | kahului\n",
      "Processing record 143 of Set 1 | hobart\n",
      "Processing record 144 of Set 1 | ekhabi\n",
      "Processing record 145 of Set 1 | saint-gaudens\n",
      "Processing record 146 of Set 1 | saint-vallier\n",
      "Processing record 147 of Set 1 | ribeira grande\n",
      "Processing record 148 of Set 1 | fairbanks\n",
      "Processing record 149 of Set 1 | carnarvon\n",
      "Processing record 150 of Set 1 | ouadda\n",
      "Processing record 151 of Set 1 | qasigiannguit\n",
      "Processing record 152 of Set 1 | qaanaaq\n",
      "Processing record 153 of Set 1 | airai\n",
      "Processing record 154 of Set 1 | okhotsk\n",
      "Record not found\n",
      "Processing record 155 of Set 1 | xai-xai\n",
      "Processing record 156 of Set 1 | ishigaki\n",
      "Processing record 157 of Set 1 | chuy\n",
      "Processing record 158 of Set 1 | bintulu\n",
      "Processing record 159 of Set 1 | niamtougou\n",
      "Processing record 160 of Set 1 | barrow\n",
      "Processing record 161 of Set 1 | ust-kuyga\n",
      "Processing record 162 of Set 1 | ballina\n",
      "Processing record 163 of Set 1 | severo-kurilsk\n",
      "Processing record 164 of Set 1 | tura\n",
      "Processing record 165 of Set 1 | coquimbo\n",
      "Processing record 166 of Set 1 | salym\n",
      "Record not found\n",
      "Processing record 167 of Set 1 | artvin\n",
      "Processing record 168 of Set 1 | mannarakkat\n",
      "Record not found\n",
      "Processing record 169 of Set 1 | bilibino\n",
      "Record not found\n",
      "Processing record 170 of Set 1 | visnes\n",
      "Processing record 171 of Set 1 | guerrero negro\n",
      "Processing record 172 of Set 1 | codrington\n",
      "Processing record 173 of Set 1 | qaqortoq\n",
      "Processing record 174 of Set 1 | bambous virieux\n",
      "Processing record 175 of Set 1 | awjilah\n",
      "Processing record 176 of Set 1 | kodiak\n",
      "Processing record 177 of Set 1 | sabla\n",
      "Processing record 178 of Set 1 | tierra colorada\n",
      "Processing record 179 of Set 1 | pangai\n",
      "Processing record 180 of Set 1 | christchurch\n",
      "Processing record 181 of Set 1 | maralal\n",
      "Processing record 182 of Set 1 | kamaishi\n",
      "Processing record 183 of Set 1 | esperance\n",
      "Processing record 184 of Set 1 | marystown\n",
      "Record not found\n",
      "Processing record 185 of Set 1 | chokurdakh\n",
      "Processing record 186 of Set 1 | neiafu\n",
      "Processing record 187 of Set 1 | farafangana\n",
      "Record not found\n",
      "Processing record 188 of Set 1 | rawson\n",
      "Processing record 189 of Set 1 | college\n",
      "Processing record 190 of Set 1 | zyryanka\n",
      "Processing record 191 of Set 1 | padang\n"
     ]
    },
    {
     "name": "stdout",
     "output_type": "stream",
     "text": [
      "Processing record 192 of Set 1 | ostrovnoy\n",
      "Processing record 193 of Set 1 | menongue\n",
      "Processing record 194 of Set 1 | erdenet\n",
      "Record not found\n",
      "Processing record 195 of Set 1 | saint-pierre\n",
      "Processing record 196 of Set 1 | arlit\n",
      "Processing record 197 of Set 1 | phulji\n",
      "Processing record 198 of Set 1 | seoni\n",
      "Processing record 199 of Set 1 | namibe\n",
      "Processing record 200 of Set 1 | nalut\n",
      "Processing record 201 of Set 1 | wagar\n",
      "Processing record 202 of Set 1 | emba\n",
      "Processing record 203 of Set 1 | mount isa\n",
      "Processing record 204 of Set 1 | acarau\n",
      "Processing record 205 of Set 1 | portland\n",
      "Processing record 206 of Set 1 | bokoro\n",
      "Record not found\n",
      "Processing record 207 of Set 1 | stephenville\n",
      "Processing record 208 of Set 1 | san patricio\n",
      "Processing record 209 of Set 1 | orlik\n",
      "Processing record 210 of Set 1 | ardakan\n",
      "Processing record 211 of Set 1 | saint george\n",
      "Processing record 212 of Set 1 | saskylakh\n",
      "Processing record 213 of Set 1 | santa maria del oro\n",
      "Processing record 214 of Set 1 | shaping\n",
      "Processing record 215 of Set 1 | souillac\n",
      "Processing record 216 of Set 1 | altamont\n",
      "Processing record 217 of Set 1 | koulamoutou\n",
      "Processing record 218 of Set 1 | pevek\n",
      "Processing record 219 of Set 1 | belaya gora\n",
      "Processing record 220 of Set 1 | chaozhou\n",
      "Processing record 221 of Set 1 | vila do maio\n",
      "Processing record 222 of Set 1 | touros\n",
      "Processing record 223 of Set 1 | pacific grove\n",
      "Processing record 224 of Set 1 | tuatapere\n",
      "Processing record 225 of Set 1 | dingle\n",
      "Processing record 226 of Set 1 | port blair\n",
      "Processing record 227 of Set 1 | alofi\n",
      "Processing record 228 of Set 1 | waipawa\n",
      "Processing record 229 of Set 1 | paeroa\n",
      "Processing record 230 of Set 1 | senneterre\n",
      "Processing record 231 of Set 1 | saint anthony\n",
      "Processing record 232 of Set 1 | faanui\n",
      "Processing record 233 of Set 1 | galeana\n",
      "Processing record 234 of Set 1 | ambanja\n",
      "Processing record 235 of Set 1 | luderitz\n",
      "Processing record 236 of Set 1 | asau\n",
      "Processing record 237 of Set 1 | atyrau\n",
      "Processing record 238 of Set 1 | esil\n",
      "Record not found\n",
      "Processing record 239 of Set 1 | seddon\n",
      "Processing record 240 of Set 1 | mount pleasant\n",
      "Processing record 241 of Set 1 | merke\n",
      "Processing record 242 of Set 1 | caravelas\n",
      "Processing record 243 of Set 1 | trinidad\n",
      "Processing record 244 of Set 1 | santa lucia\n",
      "Processing record 245 of Set 1 | itarema\n",
      "Processing record 246 of Set 1 | cajamarca\n",
      "Processing record 247 of Set 1 | kalmunai\n",
      "Processing record 248 of Set 1 | olafsvik\n",
      "Processing record 249 of Set 1 | sur\n",
      "Processing record 250 of Set 1 | grindavik\n",
      "Processing record 251 of Set 1 | vila franca do campo\n",
      "Processing record 252 of Set 1 | nikolskoye\n",
      "Processing record 253 of Set 1 | baltasi\n",
      "Processing record 254 of Set 1 | pasighat\n",
      "Processing record 255 of Set 1 | ocampo\n",
      "Processing record 256 of Set 1 | te anau\n",
      "Processing record 257 of Set 1 | mehamn\n",
      "Record not found\n",
      "Processing record 258 of Set 1 | aleksandrovka\n",
      "Processing record 259 of Set 1 | damghan\n",
      "Processing record 260 of Set 1 | tarbes\n",
      "Processing record 261 of Set 1 | klaksvik\n",
      "Processing record 262 of Set 1 | tautira\n",
      "Record not found\n",
      "Processing record 263 of Set 1 | hambantota\n",
      "Processing record 264 of Set 1 | naftalan\n",
      "Processing record 265 of Set 1 | magnolia\n",
      "Processing record 266 of Set 1 | makokou\n",
      "Processing record 267 of Set 1 | kaeo\n",
      "Record not found\n",
      "Processing record 268 of Set 1 | haifa\n",
      "Processing record 269 of Set 1 | villazon\n",
      "Processing record 270 of Set 1 | teguldet\n",
      "Processing record 271 of Set 1 | kurilsk\n",
      "Processing record 272 of Set 1 | gat\n",
      "Processing record 273 of Set 1 | paamiut\n",
      "Record not found\n",
      "Processing record 274 of Set 1 | byron bay\n",
      "Processing record 275 of Set 1 | monrovia\n",
      "Processing record 276 of Set 1 | lebu\n",
      "Processing record 277 of Set 1 | alice springs\n",
      "Processing record 278 of Set 1 | hokitika\n",
      "Processing record 279 of Set 1 | duzce\n",
      "Processing record 280 of Set 1 | storforshei\n",
      "Processing record 281 of Set 1 | asosa\n",
      "Processing record 282 of Set 1 | hay river\n",
      "Processing record 283 of Set 1 | boueni\n",
      "Processing record 284 of Set 1 | lompoc\n",
      "Processing record 285 of Set 1 | taltal\n",
      "Processing record 286 of Set 1 | east london\n",
      "Processing record 287 of Set 1 | jakar\n",
      "Processing record 288 of Set 1 | ahuimanu\n",
      "Processing record 289 of Set 1 | greensburg\n",
      "Processing record 290 of Set 1 | port augusta\n",
      "Processing record 291 of Set 1 | kodinsk\n",
      "Processing record 292 of Set 1 | penzance\n",
      "Processing record 293 of Set 1 | barinitas\n",
      "Record not found\n",
      "Processing record 294 of Set 1 | bani\n",
      "Record not found\n",
      "Processing record 295 of Set 1 | bocanda\n",
      "Processing record 296 of Set 1 | fare\n",
      "Processing record 297 of Set 1 | kutahya\n",
      "Processing record 298 of Set 1 | san cristobal\n",
      "Processing record 299 of Set 1 | verkhoyansk\n",
      "Processing record 300 of Set 1 | buala\n",
      "Processing record 301 of Set 1 | slave lake\n",
      "Processing record 302 of Set 1 | talcahuano\n",
      "Processing record 303 of Set 1 | moerai\n",
      "Processing record 304 of Set 1 | pasni\n",
      "Processing record 305 of Set 1 | yichang\n",
      "Processing record 306 of Set 1 | ossora\n",
      "Processing record 307 of Set 1 | sao miguel do iguacu\n",
      "Processing record 308 of Set 1 | topchikha\n",
      "Processing record 309 of Set 1 | keti bandar\n",
      "Record not found\n",
      "Processing record 310 of Set 1 | beboto\n",
      "Processing record 311 of Set 1 | channarayapatna\n",
      "Processing record 312 of Set 1 | joao camara\n",
      "Processing record 313 of Set 1 | svodna\n",
      "Processing record 314 of Set 1 | vao\n",
      "Processing record 315 of Set 1 | lorengau\n",
      "Processing record 316 of Set 1 | kochi\n",
      "Record not found\n",
      "Processing record 317 of Set 1 | lata\n",
      "Processing record 318 of Set 1 | shengjin\n",
      "Processing record 319 of Set 1 | kamenka\n",
      "Processing record 320 of Set 1 | kiama\n",
      "Processing record 321 of Set 1 | balotra\n",
      "Processing record 322 of Set 1 | mwinilunga\n",
      "Processing record 323 of Set 1 | belle fourche\n",
      "Processing record 324 of Set 1 | rafsanjan\n",
      "Processing record 325 of Set 1 | sumenep\n",
      "Processing record 326 of Set 1 | qui nhon\n",
      "Processing record 327 of Set 1 | nemuro\n",
      "Processing record 328 of Set 1 | rio gallegos\n",
      "Processing record 329 of Set 1 | bengkulu\n",
      "Processing record 330 of Set 1 | reconquista\n",
      "Processing record 331 of Set 1 | vestmannaeyjar\n",
      "Record not found\n",
      "Processing record 332 of Set 1 | san vicente\n",
      "Processing record 333 of Set 1 | gazli\n",
      "Processing record 334 of Set 1 | balkhash\n",
      "Processing record 335 of Set 1 | erzin\n",
      "Processing record 336 of Set 1 | praia da vitoria\n",
      "Processing record 337 of Set 1 | merauke\n",
      "Processing record 338 of Set 1 | zhengjiatun\n",
      "Processing record 339 of Set 1 | coracora\n",
      "Processing record 340 of Set 1 | lavrentiya\n",
      "Processing record 341 of Set 1 | san jose\n",
      "Processing record 342 of Set 1 | lityn\n",
      "Processing record 343 of Set 1 | malangali\n",
      "Record not found\n",
      "Processing record 344 of Set 1 | melita\n",
      "Processing record 345 of Set 1 | feijo\n",
      "Processing record 346 of Set 1 | kapit\n",
      "Processing record 347 of Set 1 | katsuura\n",
      "Processing record 348 of Set 1 | geraldton\n",
      "Processing record 349 of Set 1 | palmer\n",
      "Processing record 350 of Set 1 | avsyunino\n",
      "Processing record 351 of Set 1 | najran\n",
      "Processing record 352 of Set 1 | hasaki\n",
      "Processing record 353 of Set 1 | yuanping\n",
      "Processing record 354 of Set 1 | okato\n",
      "Processing record 355 of Set 1 | hamilton\n",
      "Processing record 356 of Set 1 | zhigansk\n",
      "Processing record 357 of Set 1 | mount gambier\n",
      "Processing record 358 of Set 1 | atikokan\n",
      "Processing record 359 of Set 1 | takoradi\n",
      "Processing record 360 of Set 1 | ratnagiri\n",
      "Processing record 361 of Set 1 | vista hermosa\n",
      "Processing record 362 of Set 1 | belgrade\n",
      "Processing record 363 of Set 1 | salamiyah\n",
      "Processing record 364 of Set 1 | razole\n",
      "Processing record 365 of Set 1 | illela\n",
      "Record not found\n",
      "Record not found\n",
      "Processing record 366 of Set 1 | san borja\n",
      "Processing record 367 of Set 1 | den helder\n",
      "Record not found\n",
      "Processing record 368 of Set 1 | palana\n",
      "Processing record 369 of Set 1 | uyar\n",
      "Processing record 370 of Set 1 | jinchang\n",
      "Processing record 371 of Set 1 | krasnoufimsk\n",
      "Processing record 372 of Set 1 | sorland\n",
      "Processing record 373 of Set 1 | ahmadpur\n",
      "Processing record 374 of Set 1 | salinopolis\n",
      "Processing record 375 of Set 1 | gushikawa\n",
      "Record not found\n",
      "Processing record 376 of Set 1 | avera\n",
      "Processing record 377 of Set 1 | tahta\n",
      "Processing record 378 of Set 1 | sesheke\n",
      "Processing record 379 of Set 1 | omboue\n",
      "Processing record 380 of Set 1 | siedlce\n"
     ]
    },
    {
     "name": "stdout",
     "output_type": "stream",
     "text": [
      "Processing record 381 of Set 1 | kwinana\n",
      "Record not found\n",
      "Record not found\n",
      "Processing record 382 of Set 1 | adrar\n",
      "Record not found\n",
      "Processing record 383 of Set 1 | verkhnyaya inta\n",
      "Processing record 384 of Set 1 | nanga eboko\n",
      "Processing record 385 of Set 1 | sivas\n",
      "Processing record 386 of Set 1 | aklavik\n",
      "Processing record 387 of Set 1 | pontian kecil\n",
      "Processing record 388 of Set 1 | tanggu\n",
      "Processing record 389 of Set 1 | brownsville\n",
      "Processing record 390 of Set 1 | bilma\n",
      "Processing record 391 of Set 1 | san felipe\n",
      "Processing record 392 of Set 1 | vila velha\n",
      "Processing record 393 of Set 1 | san pedro\n",
      "Processing record 394 of Set 1 | honggang\n",
      "Record not found\n",
      "Processing record 395 of Set 1 | namtsy\n",
      "Processing record 396 of Set 1 | bad hofgastein\n",
      "Processing record 397 of Set 1 | lagoa\n",
      "Processing record 398 of Set 1 | nome\n",
      "Processing record 399 of Set 1 | pedra azul\n",
      "Processing record 400 of Set 1 | matagami\n",
      "Processing record 401 of Set 1 | ketchikan\n",
      "Processing record 402 of Set 1 | jieshi\n",
      "Processing record 403 of Set 1 | chingirlau\n",
      "Processing record 404 of Set 1 | araucaria\n",
      "Processing record 405 of Set 1 | porto novo\n",
      "Processing record 406 of Set 1 | bjornevatn\n",
      "Processing record 407 of Set 1 | newport beach\n",
      "Processing record 408 of Set 1 | kattivakkam\n",
      "Processing record 409 of Set 1 | edgewater\n",
      "Record not found\n",
      "Processing record 410 of Set 1 | zhezkazgan\n",
      "Processing record 411 of Set 1 | broken hill\n",
      "Processing record 412 of Set 1 | eyrarbakki\n",
      "Processing record 413 of Set 1 | sibolga\n",
      "Processing record 414 of Set 1 | podor\n",
      "Processing record 415 of Set 1 | tazovskiy\n",
      "Processing record 416 of Set 1 | betanzos\n",
      "Processing record 417 of Set 1 | sal rei\n",
      "Processing record 418 of Set 1 | sao miguel do araguaia\n",
      "Processing record 419 of Set 1 | oros\n",
      "Processing record 420 of Set 1 | hobyo\n",
      "Processing record 421 of Set 1 | buraydah\n",
      "Processing record 422 of Set 1 | turukhansk\n",
      "Processing record 423 of Set 1 | toamasina\n",
      "Processing record 424 of Set 1 | tarko-sale\n",
      "Processing record 425 of Set 1 | haines junction\n",
      "Processing record 426 of Set 1 | camacha\n",
      "Processing record 427 of Set 1 | phan thiet\n",
      "Record not found\n",
      "Processing record 428 of Set 1 | tamworth\n",
      "Processing record 429 of Set 1 | lewistown\n",
      "Record not found\n",
      "Processing record 430 of Set 1 | vardo\n",
      "Processing record 431 of Set 1 | puro\n",
      "Processing record 432 of Set 1 | naze\n",
      "Processing record 433 of Set 1 | salekhard\n",
      "Processing record 434 of Set 1 | shetpe\n",
      "Processing record 435 of Set 1 | chapais\n",
      "Processing record 436 of Set 1 | saint-augustin\n",
      "Record not found\n",
      "Processing record 437 of Set 1 | ilulissat\n",
      "Processing record 438 of Set 1 | constantine\n",
      "Processing record 439 of Set 1 | cap-aux-meules\n",
      "Processing record 440 of Set 1 | nova olinda do norte\n",
      "Processing record 441 of Set 1 | iaciara\n",
      "Processing record 442 of Set 1 | ikom\n",
      "Processing record 443 of Set 1 | uruzgan\n",
      "Processing record 444 of Set 1 | stjordalshalsen\n",
      "Processing record 445 of Set 1 | hwange\n",
      "Processing record 446 of Set 1 | girua\n",
      "Processing record 447 of Set 1 | ulsteinvik\n",
      "Processing record 448 of Set 1 | qeshm\n",
      "Processing record 449 of Set 1 | deputatskiy\n",
      "Processing record 450 of Set 1 | lourdes\n",
      "Processing record 451 of Set 1 | beloha\n",
      "Processing record 452 of Set 1 | jabinyanah\n",
      "Processing record 453 of Set 1 | sfantu gheorghe\n",
      "Processing record 454 of Set 1 | bondoukou\n",
      "Processing record 455 of Set 1 | norden\n",
      "Processing record 456 of Set 1 | preeceville\n",
      "Processing record 457 of Set 1 | bontang\n",
      "Processing record 458 of Set 1 | nuuk\n",
      "Processing record 459 of Set 1 | nioro\n",
      "Processing record 460 of Set 1 | pipraich\n",
      "Processing record 461 of Set 1 | vila\n",
      "Processing record 462 of Set 1 | kananga\n",
      "Record not found\n",
      "Processing record 463 of Set 1 | puerto quijarro\n",
      "Processing record 464 of Set 1 | havelock\n",
      "Processing record 465 of Set 1 | zhangye\n",
      "Processing record 466 of Set 1 | hastings\n",
      "Processing record 467 of Set 1 | clyde river\n",
      "Processing record 468 of Set 1 | skibbereen\n",
      "Processing record 469 of Set 1 | abashiri\n",
      "Processing record 470 of Set 1 | narasannapeta\n",
      "Processing record 471 of Set 1 | moose factory\n",
      "Processing record 472 of Set 1 | mumbwa\n",
      "Record not found\n",
      "Processing record 473 of Set 1 | gravdal\n",
      "Processing record 474 of Set 1 | inhambane\n",
      "Processing record 475 of Set 1 | weyburn\n",
      "Processing record 476 of Set 1 | tsiroanomandidy\n",
      "Processing record 477 of Set 1 | san rafael del sur\n",
      "Processing record 478 of Set 1 | seydi\n",
      "Processing record 479 of Set 1 | vavoua\n",
      "Processing record 480 of Set 1 | atherton\n",
      "Processing record 481 of Set 1 | kavaratti\n",
      "Processing record 482 of Set 1 | mackay\n",
      "Processing record 483 of Set 1 | prince rupert\n",
      "Processing record 484 of Set 1 | luwuk\n",
      "Processing record 485 of Set 1 | dunedin\n",
      "Processing record 486 of Set 1 | gornyak\n",
      "Processing record 487 of Set 1 | nivala\n",
      "Processing record 488 of Set 1 | batagay\n",
      "Processing record 489 of Set 1 | taonan\n",
      "Processing record 490 of Set 1 | rio grande\n",
      "Processing record 491 of Set 1 | ruteng\n",
      "Processing record 492 of Set 1 | lusambo\n",
      "Processing record 493 of Set 1 | kishi\n",
      "Processing record 494 of Set 1 | belmonte\n",
      "Processing record 495 of Set 1 | sayat\n",
      "Processing record 496 of Set 1 | cabo san lucas\n",
      "Processing record 497 of Set 1 | panjab\n",
      "Processing record 498 of Set 1 | jerantut\n",
      "Processing record 499 of Set 1 | gambela\n",
      "Processing record 500 of Set 1 | kautokeino\n",
      "Processing record 501 of Set 1 | ukiah\n",
      "Processing record 502 of Set 1 | maine-soroa\n",
      "Processing record 503 of Set 1 | vostok\n",
      "Processing record 504 of Set 1 | olga\n",
      "Processing record 505 of Set 1 | hirara\n",
      "Record not found\n",
      "Processing record 506 of Set 1 | axim\n",
      "Processing record 507 of Set 1 | nikolayevsk-na-amure\n",
      "Processing record 508 of Set 1 | zhanaozen\n",
      "Processing record 509 of Set 1 | nishihara\n",
      "Processing record 510 of Set 1 | tilichiki\n",
      "Processing record 511 of Set 1 | yershov\n",
      "Processing record 512 of Set 1 | cap malheureux\n",
      "Record not found\n",
      "Processing record 513 of Set 1 | mounana\n",
      "Processing record 514 of Set 1 | petawawa\n",
      "Processing record 515 of Set 1 | yanam\n",
      "Processing record 516 of Set 1 | preobrazheniye\n",
      "Processing record 517 of Set 1 | beisfjord\n",
      "Processing record 518 of Set 1 | baishishan\n",
      "Processing record 519 of Set 1 | harper\n",
      "Processing record 520 of Set 1 | lima\n",
      "Processing record 521 of Set 1 | hailey\n",
      "Processing record 522 of Set 1 | mineiros\n",
      "Processing record 523 of Set 1 | conceicao do araguaia\n",
      "Processing record 524 of Set 1 | alenquer\n",
      "Processing record 525 of Set 1 | selty\n",
      "Processing record 526 of Set 1 | boguchany\n",
      "Processing record 527 of Set 1 | bowen\n",
      "Processing record 528 of Set 1 | saldanha\n",
      "Processing record 529 of Set 1 | puerto leguizamo\n",
      "Processing record 530 of Set 1 | kaitangata\n",
      "Processing record 531 of Set 1 | bogorodskoye\n",
      "Processing record 532 of Set 1 | isangel\n",
      "Processing record 533 of Set 1 | abnub\n",
      "Processing record 534 of Set 1 | greymouth\n",
      "Processing record 535 of Set 1 | mahenge\n",
      "Processing record 536 of Set 1 | chicama\n",
      "Processing record 537 of Set 1 | ziguinchor\n",
      "Processing record 538 of Set 1 | mancio lima\n",
      "Processing record 539 of Set 1 | shimanovsk\n",
      "Processing record 540 of Set 1 | ixtapa\n",
      "Processing record 541 of Set 1 | lodhran\n",
      "Processing record 542 of Set 1 | cururupu\n",
      "Processing record 543 of Set 1 | puerto del rosario\n",
      "Processing record 544 of Set 1 | narsaq\n",
      "Processing record 545 of Set 1 | miraflores\n",
      "Processing record 546 of Set 1 | abha\n",
      "Processing record 547 of Set 1 | mitzic\n",
      "Processing record 548 of Set 1 | tigil\n",
      "Processing record 549 of Set 1 | chissamba\n",
      "Processing record 550 of Set 1 | ust-ishim\n",
      "Processing record 551 of Set 1 | mesaria\n",
      "Processing record 552 of Set 1 | port hardy\n",
      "Processing record 553 of Set 1 | olenegorsk\n",
      "Record not found\n",
      "Processing record 554 of Set 1 | fortuna\n",
      "Processing record 555 of Set 1 | wajir\n",
      "Processing record 556 of Set 1 | abu samrah\n",
      "Processing record 557 of Set 1 | rockhampton\n",
      "Processing record 558 of Set 1 | ancud\n",
      "Processing record 559 of Set 1 | oga\n",
      "Processing record 560 of Set 1 | guanica\n",
      "Processing record 561 of Set 1 | bud\n",
      "Processing record 562 of Set 1 | mercedes\n",
      "Processing record 563 of Set 1 | troy\n",
      "Processing record 564 of Set 1 | soverato\n",
      "Processing record 565 of Set 1 | brainerd\n",
      "Processing record 566 of Set 1 | lingao\n",
      "Processing record 567 of Set 1 | alta floresta\n",
      "Processing record 568 of Set 1 | churapcha\n"
     ]
    },
    {
     "name": "stdout",
     "output_type": "stream",
     "text": [
      "Processing record 569 of Set 1 | uong bi\n",
      "Processing record 570 of Set 1 | natchitoches\n",
      "Processing record 571 of Set 1 | beringovskiy\n",
      "Processing record 572 of Set 1 | srednekolymsk\n",
      "Processing record 573 of Set 1 | albanel\n",
      "Processing record 574 of Set 1 | esterhazy\n",
      "Processing record 575 of Set 1 | limbang\n",
      "Processing record 576 of Set 1 | san carlos de bariloche\n",
      "Processing record 577 of Set 1 | mizan teferi\n",
      "Processing record 578 of Set 1 | gornopravdinsk\n",
      "Processing record 579 of Set 1 | bonthe\n"
     ]
    }
   ],
   "source": [
    "# set up lists to hold reponse info\n",
    "cityname = []\n",
    "cloudiness = []\n",
    "country = []\n",
    "date = []\n",
    "humidity = []\n",
    "lat = []\n",
    "lng = []\n",
    "max_temp = []\n",
    "wind_speed = []\n",
    "count = 0\n",
    "\n",
    "#response = requests.get(target_url + city).json()\n",
    "    \n",
    "# Loop through the list of cities and perform a request for data on each\n",
    "\n",
    "for city in cities:\n",
    "    weather_response = requests.get(target_url + \"&q=\" + city + \"&units=Imperial\")\n",
    "    weather_json = weather_response.json()\n",
    "    try:\n",
    "        cityname.append(weather_json['city']['name'])\n",
    "        cloudiness.append(weather_json['list'][0]['clouds']['all'])\n",
    "        country.append(weather_json['city']['country'])\n",
    "        date.append(weather_json['list'][0]['dt'])\n",
    "        humidity.append(weather_json['list'][0]['main']['humidity'])\n",
    "        lat.append(weather_json['city']['coord']['lat'])\n",
    "        lng.append(weather_json['city']['coord']['lon'])\n",
    "        max_temp.append(weather_json['list'][0]['main']['temp_max'])\n",
    "        wind_speed.append(weather_json['list'][0]['wind']['speed'])\n",
    "        count = count + 1\n",
    "        print(f\"Processing record {count} of Set 1 | {city}\")\n",
    "    except:\n",
    "        print(\"Record not found\") \n",
    "        pass"
   ]
  },
  {
   "cell_type": "markdown",
   "metadata": {},
   "source": [
    "## Convert Raw Data to DataFrame\n",
    "Export the city data into a .csv.\n",
    "Display the DataFrame"
   ]
  },
  {
   "cell_type": "code",
   "execution_count": 167,
   "metadata": {},
   "outputs": [
    {
     "data": {
      "text/html": [
       "<div>\n",
       "<style scoped>\n",
       "    .dataframe tbody tr th:only-of-type {\n",
       "        vertical-align: middle;\n",
       "    }\n",
       "\n",
       "    .dataframe tbody tr th {\n",
       "        vertical-align: top;\n",
       "    }\n",
       "\n",
       "    .dataframe thead th {\n",
       "        text-align: right;\n",
       "    }\n",
       "</style>\n",
       "<table border=\"1\" class=\"dataframe\">\n",
       "  <thead>\n",
       "    <tr style=\"text-align: right;\">\n",
       "      <th></th>\n",
       "      <th>City</th>\n",
       "      <th>Latitude</th>\n",
       "      <th>Longitude</th>\n",
       "      <th>Max Temp</th>\n",
       "      <th>Humidity</th>\n",
       "      <th>Cloudiness</th>\n",
       "      <th>Wind Speed</th>\n",
       "      <th>Country</th>\n",
       "      <th>Date</th>\n",
       "    </tr>\n",
       "  </thead>\n",
       "  <tbody>\n",
       "    <tr>\n",
       "      <th>0</th>\n",
       "      <td>Tuktoyaktuk</td>\n",
       "      <td>69.4541</td>\n",
       "      <td>-133.0374</td>\n",
       "      <td>24.94</td>\n",
       "      <td>84</td>\n",
       "      <td>45</td>\n",
       "      <td>7.36</td>\n",
       "      <td>CA</td>\n",
       "      <td>1619838000</td>\n",
       "    </tr>\n",
       "    <tr>\n",
       "      <th>1</th>\n",
       "      <td>Tarbagatay</td>\n",
       "      <td>51.4803</td>\n",
       "      <td>107.3602</td>\n",
       "      <td>48.85</td>\n",
       "      <td>48</td>\n",
       "      <td>47</td>\n",
       "      <td>1.23</td>\n",
       "      <td>RU</td>\n",
       "      <td>1619838000</td>\n",
       "    </tr>\n",
       "    <tr>\n",
       "      <th>2</th>\n",
       "      <td>Koygorodok</td>\n",
       "      <td>60.4450</td>\n",
       "      <td>50.9968</td>\n",
       "      <td>43.79</td>\n",
       "      <td>92</td>\n",
       "      <td>100</td>\n",
       "      <td>13.56</td>\n",
       "      <td>RU</td>\n",
       "      <td>1619838000</td>\n",
       "    </tr>\n",
       "    <tr>\n",
       "      <th>3</th>\n",
       "      <td>Port-Gentil</td>\n",
       "      <td>-0.7193</td>\n",
       "      <td>8.7815</td>\n",
       "      <td>81.10</td>\n",
       "      <td>86</td>\n",
       "      <td>47</td>\n",
       "      <td>6.73</td>\n",
       "      <td>GA</td>\n",
       "      <td>1619838000</td>\n",
       "    </tr>\n",
       "    <tr>\n",
       "      <th>4</th>\n",
       "      <td>Rikitea</td>\n",
       "      <td>-23.1203</td>\n",
       "      <td>-134.9692</td>\n",
       "      <td>79.18</td>\n",
       "      <td>79</td>\n",
       "      <td>93</td>\n",
       "      <td>19.98</td>\n",
       "      <td>PF</td>\n",
       "      <td>1619838000</td>\n",
       "    </tr>\n",
       "  </tbody>\n",
       "</table>\n",
       "</div>"
      ],
      "text/plain": [
       "          City  Latitude  Longitude  Max Temp  Humidity  Cloudiness  \\\n",
       "0  Tuktoyaktuk   69.4541  -133.0374     24.94        84          45   \n",
       "1   Tarbagatay   51.4803   107.3602     48.85        48          47   \n",
       "2   Koygorodok   60.4450    50.9968     43.79        92         100   \n",
       "3  Port-Gentil   -0.7193     8.7815     81.10        86          47   \n",
       "4      Rikitea  -23.1203  -134.9692     79.18        79          93   \n",
       "\n",
       "   Wind Speed Country        Date  \n",
       "0        7.36      CA  1619838000  \n",
       "1        1.23      RU  1619838000  \n",
       "2       13.56      RU  1619838000  \n",
       "3        6.73      GA  1619838000  \n",
       "4       19.98      PF  1619838000  "
      ]
     },
     "execution_count": 167,
     "metadata": {},
     "output_type": "execute_result"
    }
   ],
   "source": [
    "#Creating city dataframe\n",
    "# Convert array of JSONs into Pandas DataFrame\n",
    "\n",
    "weather_dict = {\"City\": cityname,\n",
    "                \"Latitude\": lat,\n",
    "                \"Longitude\":lng,\n",
    "                \"Max Temp\":max_temp,\n",
    "                \"Humidity\":humidity,\n",
    "                \"Cloudiness\":cloudiness,\n",
    "                \"Wind Speed\":wind_speed,\n",
    "                \"Country\":country,\n",
    "                \"Date\":date}\n",
    "weather_data = pd.DataFrame(weather_dict)\n",
    "weather_data.head()"
   ]
  },
  {
   "cell_type": "code",
   "execution_count": 168,
   "metadata": {},
   "outputs": [
    {
     "data": {
      "text/html": [
       "<div>\n",
       "<style scoped>\n",
       "    .dataframe tbody tr th:only-of-type {\n",
       "        vertical-align: middle;\n",
       "    }\n",
       "\n",
       "    .dataframe tbody tr th {\n",
       "        vertical-align: top;\n",
       "    }\n",
       "\n",
       "    .dataframe thead th {\n",
       "        text-align: right;\n",
       "    }\n",
       "</style>\n",
       "<table border=\"1\" class=\"dataframe\">\n",
       "  <thead>\n",
       "    <tr style=\"text-align: right;\">\n",
       "      <th></th>\n",
       "      <th>City</th>\n",
       "      <th>Latitude</th>\n",
       "      <th>Longitude</th>\n",
       "      <th>Max Temp</th>\n",
       "      <th>Humidity</th>\n",
       "      <th>Cloudiness</th>\n",
       "      <th>Wind Speed</th>\n",
       "      <th>Country</th>\n",
       "      <th>Date</th>\n",
       "    </tr>\n",
       "  </thead>\n",
       "  <tbody>\n",
       "    <tr>\n",
       "      <th>0</th>\n",
       "      <td>Tuktoyaktuk</td>\n",
       "      <td>69.4541</td>\n",
       "      <td>-133.0374</td>\n",
       "      <td>24.94</td>\n",
       "      <td>84</td>\n",
       "      <td>45</td>\n",
       "      <td>7.36</td>\n",
       "      <td>CA</td>\n",
       "      <td>1619838000</td>\n",
       "    </tr>\n",
       "    <tr>\n",
       "      <th>1</th>\n",
       "      <td>Tarbagatay</td>\n",
       "      <td>51.4803</td>\n",
       "      <td>107.3602</td>\n",
       "      <td>48.85</td>\n",
       "      <td>48</td>\n",
       "      <td>47</td>\n",
       "      <td>1.23</td>\n",
       "      <td>RU</td>\n",
       "      <td>1619838000</td>\n",
       "    </tr>\n",
       "    <tr>\n",
       "      <th>2</th>\n",
       "      <td>Koygorodok</td>\n",
       "      <td>60.4450</td>\n",
       "      <td>50.9968</td>\n",
       "      <td>43.79</td>\n",
       "      <td>92</td>\n",
       "      <td>100</td>\n",
       "      <td>13.56</td>\n",
       "      <td>RU</td>\n",
       "      <td>1619838000</td>\n",
       "    </tr>\n",
       "    <tr>\n",
       "      <th>3</th>\n",
       "      <td>Port-Gentil</td>\n",
       "      <td>-0.7193</td>\n",
       "      <td>8.7815</td>\n",
       "      <td>81.10</td>\n",
       "      <td>86</td>\n",
       "      <td>47</td>\n",
       "      <td>6.73</td>\n",
       "      <td>GA</td>\n",
       "      <td>1619838000</td>\n",
       "    </tr>\n",
       "    <tr>\n",
       "      <th>4</th>\n",
       "      <td>Rikitea</td>\n",
       "      <td>-23.1203</td>\n",
       "      <td>-134.9692</td>\n",
       "      <td>79.18</td>\n",
       "      <td>79</td>\n",
       "      <td>93</td>\n",
       "      <td>19.98</td>\n",
       "      <td>PF</td>\n",
       "      <td>1619838000</td>\n",
       "    </tr>\n",
       "  </tbody>\n",
       "</table>\n",
       "</div>"
      ],
      "text/plain": [
       "          City  Latitude  Longitude  Max Temp  Humidity  Cloudiness  \\\n",
       "0  Tuktoyaktuk   69.4541  -133.0374     24.94        84          45   \n",
       "1   Tarbagatay   51.4803   107.3602     48.85        48          47   \n",
       "2   Koygorodok   60.4450    50.9968     43.79        92         100   \n",
       "3  Port-Gentil   -0.7193     8.7815     81.10        86          47   \n",
       "4      Rikitea  -23.1203  -134.9692     79.18        79          93   \n",
       "\n",
       "   Wind Speed Country        Date  \n",
       "0        7.36      CA  1619838000  \n",
       "1        1.23      RU  1619838000  \n",
       "2       13.56      RU  1619838000  \n",
       "3        6.73      GA  1619838000  \n",
       "4       19.98      PF  1619838000  "
      ]
     },
     "execution_count": 168,
     "metadata": {},
     "output_type": "execute_result"
    }
   ],
   "source": [
    "# Export the City_Data into a csv\n",
    "weather_data.to_csv(r'output_data\\my_weather_data.csv')\n",
    "# Show Record Count\n",
    "countforme = len(weather_data)\n",
    "\n",
    "\n",
    "#Displaying dataframe\n",
    "weather_data.head()"
   ]
  },
  {
   "cell_type": "code",
   "execution_count": 169,
   "metadata": {},
   "outputs": [
    {
     "data": {
      "text/plain": [
       "City          579\n",
       "Latitude      579\n",
       "Longitude     579\n",
       "Max Temp      579\n",
       "Humidity      579\n",
       "Cloudiness    579\n",
       "Wind Speed    579\n",
       "Country       579\n",
       "Date          579\n",
       "dtype: int64"
      ]
     },
     "execution_count": 169,
     "metadata": {},
     "output_type": "execute_result"
    }
   ],
   "source": [
    "weather_data.count()"
   ]
  },
  {
   "cell_type": "markdown",
   "metadata": {},
   "source": [
    "## Plotting the Data\n",
    "Use proper labeling of the plots using plot titles (including date of analysis) and axes labels.\n",
    "Save the plotted figures as .pngs."
   ]
  },
  {
   "cell_type": "markdown",
   "metadata": {},
   "source": [
    "Latitude vs. Temperature Plot"
   ]
  },
  {
   "cell_type": "code",
   "execution_count": 170,
   "metadata": {},
   "outputs": [
    {
     "data": {
      "image/png": "[encoded data removed]",
      "text/plain": [
       "<Figure size 432x288 with 1 Axes>"
      ]
     },
     "metadata": {
      "needs_background": "light"
     },
     "output_type": "display_data"
    }
   ],
   "source": [
    "x_values = weather_data['Latitude']\n",
    "y_values = weather_data['Max Temp']\n",
    "\n",
    "plt.scatter(x_values, y_values)\n",
    "plt.title('City Latitude vs Max Temperature')\n",
    "plt.xlabel('Latitude')\n",
    "plt.ylabel('Max Temperature (F)')\n",
    "plt.show()"
   ]
  },
  {
   "cell_type": "markdown",
   "metadata": {},
   "source": [
    "Humidity (%) vs. Latitude"
   ]
  },
  {
   "cell_type": "code",
   "execution_count": 171,
   "metadata": {},
   "outputs": [
    {
     "data": {
      "image/png": "[encoded data removed]",
      "text/plain": [
       "<Figure size 432x288 with 1 Axes>"
      ]
     },
     "metadata": {
      "needs_background": "light"
     },
     "output_type": "display_data"
    }
   ],
   "source": [
    "x_values = weather_data['Latitude']\n",
    "y_values = weather_data['Humidity']\n",
    "\n",
    "plt.scatter(x_values, y_values)\n",
    "plt.title('Humidity vs. Latitude')\n",
    "plt.xlabel('Latitude')\n",
    "plt.ylabel('Humidity %')\n",
    "plt.show()"
   ]
  },
  {
   "cell_type": "markdown",
   "metadata": {},
   "source": [
    "Cloudiness (%) vs. Latitude"
   ]
  },
  {
   "cell_type": "code",
   "execution_count": 172,
   "metadata": {},
   "outputs": [
    {
     "data": {
      "image/png": "[encoded data removed]",
      "text/plain": [
       "<Figure size 432x288 with 1 Axes>"
      ]
     },
     "metadata": {
      "needs_background": "light"
     },
     "output_type": "display_data"
    }
   ],
   "source": [
    "x_values = weather_data['Latitude']\n",
    "y_values = weather_data['Cloudiness']\n",
    "\n",
    "plt.scatter(x_values, y_values)\n",
    "plt.title('Cloudiness vs. Latitude')\n",
    "plt.xlabel('Latitude')\n",
    "plt.ylabel('Cloudiness %')\n",
    "plt.show()"
   ]
  },
  {
   "cell_type": "markdown",
   "metadata": {},
   "source": [
    "Wind Speed (mph) vs. Latitude"
   ]
  },
  {
   "cell_type": "code",
   "execution_count": 173,
   "metadata": {},
   "outputs": [
    {
     "data": {
      "image/png": "[encoded data removed]",
      "text/plain": [
       "<Figure size 432x288 with 1 Axes>"
      ]
     },
     "metadata": {
      "needs_background": "light"
     },
     "output_type": "display_data"
    }
   ],
   "source": [
    "x_values = weather_data['Latitude']\n",
    "y_values = weather_data['Wind Speed']\n",
    "\n",
    "plt.scatter(x_values, y_values)\n",
    "plt.title('Wind Speed (mph) vs. Latitude')\n",
    "plt.xlabel('Latitude')\n",
    "plt.ylabel('Wind Speed (mph)')\n",
    "plt.show()"
   ]
  },
  {
   "cell_type": "markdown",
   "metadata": {},
   "source": [
    "## Linear Regression"
   ]
  },
  {
   "cell_type": "code",
   "execution_count": 174,
   "metadata": {},
   "outputs": [],
   "source": [
    "# OPTIONAL: Create a function to create Linear Regression plots\n",
    "# Add the linear regression equation and line to plot\n",
    "def linear_reg_plot(x_values,y_values):\n",
    "    (slope, intercept, rvalue, pvalue, stderr) = linregress(x_values, y_values)\n",
    "    regress_values = x_values * slope + intercept\n",
    "    line_eq = \"y = \" + str(round(slope,2)) + \"x + \" + str(round(intercept,2))\n",
    "    plt.scatter(x_values,y_values)\n",
    "    plt.plot(x_values,regress_values,\"r-\")\n",
    "    plt.annotate(line_eq,(x_values.median(),y_values.median()),fontsize=15,color=\"red\")\n",
    "    plt.xlabel(\"Latitude\")\n",
    "    print(f\"The r-squared is: {rvalue}\")\n",
    "    plt.show()"
   ]
  },
  {
   "cell_type": "code",
   "execution_count": 175,
   "metadata": {},
   "outputs": [
    {
     "data": {
      "text/html": [
       "<div>\n",
       "<style scoped>\n",
       "    .dataframe tbody tr th:only-of-type {\n",
       "        vertical-align: middle;\n",
       "    }\n",
       "\n",
       "    .dataframe tbody tr th {\n",
       "        vertical-align: top;\n",
       "    }\n",
       "\n",
       "    .dataframe thead th {\n",
       "        text-align: right;\n",
       "    }\n",
       "</style>\n",
       "<table border=\"1\" class=\"dataframe\">\n",
       "  <thead>\n",
       "    <tr style=\"text-align: right;\">\n",
       "      <th></th>\n",
       "      <th>City</th>\n",
       "      <th>Latitude</th>\n",
       "      <th>Longitude</th>\n",
       "      <th>Max Temp</th>\n",
       "      <th>Humidity</th>\n",
       "      <th>Cloudiness</th>\n",
       "      <th>Wind Speed</th>\n",
       "      <th>Country</th>\n",
       "      <th>Date</th>\n",
       "    </tr>\n",
       "  </thead>\n",
       "  <tbody>\n",
       "    <tr>\n",
       "      <th>0</th>\n",
       "      <td>Tuktoyaktuk</td>\n",
       "      <td>69.4541</td>\n",
       "      <td>-133.0374</td>\n",
       "      <td>24.94</td>\n",
       "      <td>84</td>\n",
       "      <td>45</td>\n",
       "      <td>7.36</td>\n",
       "      <td>CA</td>\n",
       "      <td>1619838000</td>\n",
       "    </tr>\n",
       "    <tr>\n",
       "      <th>1</th>\n",
       "      <td>Tarbagatay</td>\n",
       "      <td>51.4803</td>\n",
       "      <td>107.3602</td>\n",
       "      <td>48.85</td>\n",
       "      <td>48</td>\n",
       "      <td>47</td>\n",
       "      <td>1.23</td>\n",
       "      <td>RU</td>\n",
       "      <td>1619838000</td>\n",
       "    </tr>\n",
       "    <tr>\n",
       "      <th>2</th>\n",
       "      <td>Koygorodok</td>\n",
       "      <td>60.4450</td>\n",
       "      <td>50.9968</td>\n",
       "      <td>43.79</td>\n",
       "      <td>92</td>\n",
       "      <td>100</td>\n",
       "      <td>13.56</td>\n",
       "      <td>RU</td>\n",
       "      <td>1619838000</td>\n",
       "    </tr>\n",
       "    <tr>\n",
       "      <th>5</th>\n",
       "      <td>Biankouma</td>\n",
       "      <td>7.7391</td>\n",
       "      <td>-7.6138</td>\n",
       "      <td>71.20</td>\n",
       "      <td>88</td>\n",
       "      <td>34</td>\n",
       "      <td>3.29</td>\n",
       "      <td>CI</td>\n",
       "      <td>1619838000</td>\n",
       "    </tr>\n",
       "    <tr>\n",
       "      <th>8</th>\n",
       "      <td>Nouakchott</td>\n",
       "      <td>18.0858</td>\n",
       "      <td>-15.9785</td>\n",
       "      <td>67.03</td>\n",
       "      <td>85</td>\n",
       "      <td>3</td>\n",
       "      <td>18.75</td>\n",
       "      <td>MR</td>\n",
       "      <td>1619838000</td>\n",
       "    </tr>\n",
       "  </tbody>\n",
       "</table>\n",
       "</div>"
      ],
      "text/plain": [
       "          City  Latitude  Longitude  Max Temp  Humidity  Cloudiness  \\\n",
       "0  Tuktoyaktuk   69.4541  -133.0374     24.94        84          45   \n",
       "1   Tarbagatay   51.4803   107.3602     48.85        48          47   \n",
       "2   Koygorodok   60.4450    50.9968     43.79        92         100   \n",
       "5    Biankouma    7.7391    -7.6138     71.20        88          34   \n",
       "8   Nouakchott   18.0858   -15.9785     67.03        85           3   \n",
       "\n",
       "   Wind Speed Country        Date  \n",
       "0        7.36      CA  1619838000  \n",
       "1        1.23      RU  1619838000  \n",
       "2       13.56      RU  1619838000  \n",
       "5        3.29      CI  1619838000  \n",
       "8       18.75      MR  1619838000  "
      ]
     },
     "execution_count": 175,
     "metadata": {},
     "output_type": "execute_result"
    }
   ],
   "source": [
    "# Create Northern and Southern Hemisphere DataFrames\n",
    "northlat_df = weather_data.loc[weather_data[\"Latitude\"] >= 0,:]\n",
    "southlat_df = weather_data.loc[weather_data[\"Latitude\"] < 0,:]\n",
    "\n",
    "northlat_df.head()"
   ]
  },
  {
   "cell_type": "markdown",
   "metadata": {},
   "source": [
    "## Northern Hemisphere - Max Temp vs. Latitude Linear Regression"
   ]
  },
  {
   "cell_type": "code",
   "execution_count": 176,
   "metadata": {},
   "outputs": [
    {
     "name": "stdout",
     "output_type": "stream",
     "text": [
      "The r-squared is: -0.8864989195210058\n"
     ]
    },
    {
     "data": {
      "image/png": "[encoded data removed]",
      "text/plain": [
       "<Figure size 432x288 with 1 Axes>"
      ]
     },
     "metadata": {
      "needs_background": "light"
     },
     "output_type": "display_data"
    },
    {
     "data": {
      "text/plain": [
       "<Figure size 432x288 with 0 Axes>"
      ]
     },
     "metadata": {},
     "output_type": "display_data"
    }
   ],
   "source": [
    "x_values = northlat_df[\"Latitude\"]\n",
    "y_values = northlat_df[\"Max Temp\"]\n",
    "plot_linear_regression(x_values,y_values,'Max Temp',(6,30))\n",
    "\n",
    "plt.savefig('northerntemplat')"
   ]
  },
  {
   "cell_type": "markdown",
   "metadata": {},
   "source": [
    "## Southern Hemisphere - Max Temp vs. Latitude Linear Regression"
   ]
  },
  {
   "cell_type": "code",
   "execution_count": 179,
   "metadata": {},
   "outputs": [
    {
     "name": "stdout",
     "output_type": "stream",
     "text": [
      "The r-squared is: 0.6355027757098415\n"
     ]
    },
    {
     "data": {
      "image/png": "[encoded data removed]",
      "text/plain": [
       "<Figure size 432x288 with 1 Axes>"
      ]
     },
     "metadata": {
      "needs_background": "light"
     },
     "output_type": "display_data"
    },
    {
     "name": "stdout",
     "output_type": "stream",
     "text": [
      "The high r value indicates a strong positive correlation between latitude and max temperature.\n"
     ]
    },
    {
     "data": {
      "text/plain": [
       "<Figure size 432x288 with 0 Axes>"
      ]
     },
     "metadata": {},
     "output_type": "display_data"
    }
   ],
   "source": [
    "x_values = southlat_df[\"Latitude\"]\n",
    "y_values = southlat_df[\"Max Temp\"]\n",
    "plot_linear_regression(x_values,y_values,'Max Temp',(6,30))\n",
    "\n",
    "plt.savefig('southerntemplat')\n",
    "\n",
    "print(\"The high r value indicates a strong positive correlation between latitude and max temperature.\")"
   ]
  },
  {
   "cell_type": "markdown",
   "metadata": {},
   "source": [
    "## Northern Hemisphere - Humidity (%) vs. Latitude Linear Regression¶"
   ]
  },
  {
   "cell_type": "code",
   "execution_count": 180,
   "metadata": {},
   "outputs": [
    {
     "name": "stdout",
     "output_type": "stream",
     "text": [
      "The r-squared is: 0.1353294632605332\n"
     ]
    },
    {
     "data": {
      "image/png": "[encoded data removed]",
      "text/plain": [
       "<Figure size 432x288 with 1 Axes>"
      ]
     },
     "metadata": {
      "needs_background": "light"
     },
     "output_type": "display_data"
    },
    {
     "data": {
      "text/plain": [
       "<Figure size 432x288 with 0 Axes>"
      ]
     },
     "metadata": {},
     "output_type": "display_data"
    }
   ],
   "source": [
    "x_values = northlat_df[\"Latitude\"]\n",
    "y_values = northlat_df[\"Humidity\"]\n",
    "plot_linear_regression(x_values,y_values,'Humidity',(6,30))\n",
    "\n",
    "plt.savefig('northernhumlat')"
   ]
  },
  {
   "cell_type": "markdown",
   "metadata": {},
   "source": [
    "## Southern Hemisphere - Humidity (%) vs. Latitude Linear Regression"
   ]
  },
  {
   "cell_type": "code",
   "execution_count": 181,
   "metadata": {},
   "outputs": [
    {
     "name": "stdout",
     "output_type": "stream",
     "text": [
      "The r-squared is: 0.37449742798538427\n"
     ]
    },
    {
     "data": {
      "image/png": "[encoded data removed]",
      "text/plain": [
       "<Figure size 432x288 with 1 Axes>"
      ]
     },
     "metadata": {
      "needs_background": "light"
     },
     "output_type": "display_data"
    },
    {
     "name": "stdout",
     "output_type": "stream",
     "text": [
      "The low r values indicate a weak to no relationship between humidity and latitude.\n"
     ]
    },
    {
     "data": {
      "text/plain": [
       "<Figure size 432x288 with 0 Axes>"
      ]
     },
     "metadata": {},
     "output_type": "display_data"
    }
   ],
   "source": [
    "x_values = southlat_df[\"Latitude\"]\n",
    "y_values = southlat_df[\"Humidity\"]\n",
    "plot_linear_regression(x_values,y_values,'Humidity',(6,30))\n",
    "\n",
    "plt.savefig('southernhumlat')\n",
    "\n",
    "print(\"The low r values indicate a weak to no relationship between humidity and latitude.\")"
   ]
  },
  {
   "cell_type": "markdown",
   "metadata": {},
   "source": [
    "## Northern Hemisphere - Cloudiness (%) vs. Latitude Linear Regression¶"
   ]
  },
  {
   "cell_type": "code",
   "execution_count": 182,
   "metadata": {},
   "outputs": [
    {
     "name": "stdout",
     "output_type": "stream",
     "text": [
      "The r-squared is: 0.18431069597171734\n"
     ]
    },
    {
     "data": {
      "image/png": "[encoded data removed]",
      "text/plain": [
       "<Figure size 432x288 with 1 Axes>"
      ]
     },
     "metadata": {
      "needs_background": "light"
     },
     "output_type": "display_data"
    },
    {
     "data": {
      "text/plain": [
       "<Figure size 432x288 with 0 Axes>"
      ]
     },
     "metadata": {},
     "output_type": "display_data"
    }
   ],
   "source": [
    "x_values = northlat_df[\"Latitude\"]\n",
    "y_values = northlat_df[\"Cloudiness\"]\n",
    "plot_linear_regression(x_values,y_values,'Cloudiness',(6,30))\n",
    "\n",
    "plt.savefig('northerncloudlat')"
   ]
  },
  {
   "cell_type": "markdown",
   "metadata": {},
   "source": [
    "## Southern Hemisphere - Cloudiness (%) vs. Latitude Linear Regression"
   ]
  },
  {
   "cell_type": "code",
   "execution_count": 183,
   "metadata": {},
   "outputs": [
    {
     "name": "stdout",
     "output_type": "stream",
     "text": [
      "The r-squared is: 0.16450356639002453\n"
     ]
    },
    {
     "data": {
      "image/png": "[encoded data removed]",
      "text/plain": [
       "<Figure size 432x288 with 1 Axes>"
      ]
     },
     "metadata": {
      "needs_background": "light"
     },
     "output_type": "display_data"
    },
    {
     "name": "stdout",
     "output_type": "stream",
     "text": [
      "The low r values indicate a weak positive relationship between latitude and cloudiness.\n"
     ]
    },
    {
     "data": {
      "text/plain": [
       "<Figure size 432x288 with 0 Axes>"
      ]
     },
     "metadata": {},
     "output_type": "display_data"
    }
   ],
   "source": [
    "x_values = southlat_df[\"Latitude\"]\n",
    "y_values = southlat_df[\"Cloudiness\"]\n",
    "plot_linear_regression(x_values,y_values,'Cloudiness',(6,30))\n",
    "\n",
    "plt.savefig('southerncloudlat')\n",
    "\n",
    "print(\"The low r values indicate a weak positive relationship between latitude and cloudiness.\")"
   ]
  },
  {
   "cell_type": "markdown",
   "metadata": {},
   "source": [
    "## Northern Hemisphere - Wind Speed (mph) vs. Latitude Linear Regression"
   ]
  },
  {
   "cell_type": "code",
   "execution_count": 184,
   "metadata": {},
   "outputs": [
    {
     "name": "stdout",
     "output_type": "stream",
     "text": [
      "The r-squared is: 0.20712879934828654\n"
     ]
    },
    {
     "data": {
      "image/png": "[encoded data removed]",
      "text/plain": [
       "<Figure size 432x288 with 1 Axes>"
      ]
     },
     "metadata": {
      "needs_background": "light"
     },
     "output_type": "display_data"
    },
    {
     "data": {
      "text/plain": [
       "<Figure size 432x288 with 0 Axes>"
      ]
     },
     "metadata": {},
     "output_type": "display_data"
    }
   ],
   "source": [
    "x_values = northlat_df[\"Latitude\"]\n",
    "y_values = northlat_df[\"Wind Speed\"]\n",
    "plot_linear_regression(x_values,y_values,'Wind Speed',(6,30))\n",
    "\n",
    "plt.savefig('northernwindlat')"
   ]
  },
  {
   "cell_type": "markdown",
   "metadata": {},
   "source": [
    "## Southern Hemisphere - Wind Speed (mph) vs. Latitude Linear Regression¶"
   ]
  },
  {
   "cell_type": "code",
   "execution_count": 187,
   "metadata": {},
   "outputs": [
    {
     "name": "stdout",
     "output_type": "stream",
     "text": [
      "The r-squared is: -0.3146245053120757\n"
     ]
    },
    {
     "data": {
      "image/png": "[encoded data removed]",
      "text/plain": [
       "<Figure size 432x288 with 1 Axes>"
      ]
     },
     "metadata": {
      "needs_background": "light"
     },
     "output_type": "display_data"
    },
    {
     "data": {
      "text/plain": [
       "<Figure size 432x288 with 0 Axes>"
      ]
     },
     "metadata": {},
     "output_type": "display_data"
    }
   ],
   "source": [
    " x_values = southlat_df[\"Latitude\"]\n",
    "y_values = southlat_df[\"Wind Speed\"]\n",
    "plot_linear_regression(x_values,y_values,'Wind Speed',(6,30))\n",
    "\n",
    "plt.savefig('southernwindlat')"
   ]
  }
 ],
 "metadata": {
  "kernelspec": {
   "display_name": "Python [conda env:PythonData] *",
   "language": "python",
   "name": "conda-env-PythonData-py"
  },
  "language_info": {
   "codemirror_mode": {
    "name": "ipython",
    "version": 3
   },
   "file_extension": ".py",
   "mimetype": "text/x-python",
   "name": "python",
   "nbconvert_exporter": "python",
   "pygments_lexer": "ipython3",
   "version": "3.6.10"
  }
 },
 "nbformat": 4,
 "nbformat_minor": 2
}
